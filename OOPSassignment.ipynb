{
  "nbformat": 4,
  "nbformat_minor": 0,
  "metadata": {
    "colab": {
      "provenance": []
    },
    "kernelspec": {
      "name": "python3",
      "display_name": "Python 3"
    },
    "language_info": {
      "name": "python"
    }
  },
  "cells": [
    {
      "cell_type": "markdown",
      "source": [
        "#Python OOPs Questions :-"
      ],
      "metadata": {
        "id": "06UsVWRXEwSD"
      }
    },
    {
      "cell_type": "markdown",
      "source": [
        "###1. What is object oriented programming (OOP) ??"
      ],
      "metadata": {
        "id": "dA-vPb5Qm54h"
      }
    },
    {
      "cell_type": "markdown",
      "source": [
        "Ans- OOP is a way of organizing code into reusable objects that have their own properties and behaviors. This makes it easier to build complex programs and reuse code in different parts of a project."
      ],
      "metadata": {
        "id": "5AzUljhmm563"
      }
    },
    {
      "cell_type": "markdown",
      "source": [
        "###2. What is a class in OOP ??"
      ],
      "metadata": {
        "id": "XNkGI0O9m59E"
      }
    },
    {
      "cell_type": "markdown",
      "source": [
        "Ans-A class is a way to define a category or type of object. It specifies the data (attributes) that the object will hold and the actions (methods) that it can perform.\n",
        "\n",
        "Example- A car class might have attributes like color, model, and speed and mathods like start(), stop(), and accelerate()."
      ],
      "metadata": {
        "id": "vLc4LViRm5_U"
      }
    },
    {
      "cell_type": "markdown",
      "source": [
        "###3.  What is an object in OOP ??"
      ],
      "metadata": {
        "id": "ljEtG13zm6BR"
      }
    },
    {
      "cell_type": "markdown",
      "source": [
        "Ans- In OOP, an object is an instance of a class. Think of a class as a blueprint, and an object as a specific instance built from that blueprint."
      ],
      "metadata": {
        "id": "zAmc7iQwm6DL"
      }
    },
    {
      "cell_type": "markdown",
      "source": [
        "###4. What is the difference between abstraction and encapsulation ?"
      ],
      "metadata": {
        "id": "uFqNCy9GVrpz"
      }
    },
    {
      "cell_type": "markdown",
      "source": [
        "Ans- Abstraction hides complex implementation details and exposes only essential features. Encapsulation bundles data and methods into a class and restricts direct access to some components."
      ],
      "metadata": {
        "id": "hRjed3cfAS6L"
      }
    },
    {
      "cell_type": "markdown",
      "source": [
        "###5. What are dunder methods in Python?"
      ],
      "metadata": {
        "id": "CM9bI4yeVrvK"
      }
    },
    {
      "cell_type": "markdown",
      "source": [
        "Ans- Dunder methods are special methods in Python that have double underscores at the beginning and end of their names. They are also known as magic methods or special methods.\n",
        "\n",
        "Example- __ init __ : This method is called when an object of a class is created. It is used to initialize the object's attributes."
      ],
      "metadata": {
        "id": "LNanN1vAVryk"
      }
    },
    {
      "cell_type": "markdown",
      "source": [
        "###6. Explain the concept of inheritance in OOP ?"
      ],
      "metadata": {
        "id": "5o42mW2MyHqB"
      }
    },
    {
      "cell_type": "markdown",
      "source": [
        "Ans- Inheritance allows a child class to inherit attributes and methods from a parent class, promoting code reuse."
      ],
      "metadata": {
        "id": "swL3G1kVBrFS"
      }
    },
    {
      "cell_type": "markdown",
      "source": [
        "###7. What is polymorphism in OOP ?"
      ],
      "metadata": {
        "id": "KV6JCxWTzMJS"
      }
    },
    {
      "cell_type": "markdown",
      "source": [
        "Ans- Polymorphism (meaning \"many forms\") is the ability of an object to take on many forms. In OOP, it refers to the ability of objects of different classes to respond to the same method call in different ways."
      ],
      "metadata": {
        "id": "WZrqzHCXzMMy"
      }
    },
    {
      "cell_type": "markdown",
      "source": [
        "###8. How is encapsulation achieved in Python ?"
      ],
      "metadata": {
        "id": "Pd0csxkPz97J"
      }
    },
    {
      "cell_type": "markdown",
      "source": [
        "Ans- Encapsulation in Python is achieved using private variables (e.g., _variable or __variable) and methods like getters/setters."
      ],
      "metadata": {
        "id": "phKPiheq7P11"
      }
    },
    {
      "cell_type": "markdown",
      "source": [
        "###9.What is a constructor in Python ?"
      ],
      "metadata": {
        "id": "HHrzZVn57PSG"
      }
    },
    {
      "cell_type": "markdown",
      "source": [
        "Ans- Constructor (__ init __) initializes object attributes when an object is created."
      ],
      "metadata": {
        "id": "JDfZp2-H7PVn"
      }
    },
    {
      "cell_type": "markdown",
      "source": [
        "###10. What are class and static methods in Python?"
      ],
      "metadata": {
        "id": "hUbAkzab8Ewm"
      }
    },
    {
      "cell_type": "markdown",
      "source": [
        "Ans- Class methods (decorated with @classmethod) act on the class itself. Static methods (@staticmethod) are utility functions not tied to the class or instance."
      ],
      "metadata": {
        "id": "csRQE6zr8E0n"
      }
    },
    {
      "cell_type": "markdown",
      "source": [
        "###11. What is method overloading in Python?"
      ],
      "metadata": {
        "id": "xhFm5LwG8E4N"
      }
    },
    {
      "cell_type": "markdown",
      "source": [
        "Ans- Method overloading (simulated using default arguments or *args) allows multiple method signatures. Python doesn’t natively support it."
      ],
      "metadata": {
        "id": "sPmzp4PK8rbl"
      }
    },
    {
      "cell_type": "markdown",
      "source": [
        "###12. What is method overriding in OOP ?"
      ],
      "metadata": {
        "id": "_IalF13H8rVM"
      }
    },
    {
      "cell_type": "markdown",
      "source": [
        "Ans- Method overriding replaces a parent class method in the child class."
      ],
      "metadata": {
        "id": "s0il7hZ69O9k"
      }
    },
    {
      "cell_type": "markdown",
      "source": [
        "###13. What is a property decorator in Python?"
      ],
      "metadata": {
        "id": "wslT2BYp9O6T"
      }
    },
    {
      "cell_type": "markdown",
      "source": [
        "Ans- Property decorator (@property) allows methods to be accessed like attributes, enabling controlled access to private variables."
      ],
      "metadata": {
        "id": "wKd_ndgx9O18"
      }
    },
    {
      "cell_type": "markdown",
      "source": [
        "###14. Why is polymorphism important in OOP?\n"
      ],
      "metadata": {
        "id": "qSNhrb5M-bPD"
      }
    },
    {
      "cell_type": "markdown",
      "source": [
        "Ans- Polymorphism simplifies code maintenance and allows flexibility by treating objects of different classes uniformly."
      ],
      "metadata": {
        "id": "hQ9m0Qo3-a9T"
      }
    },
    {
      "cell_type": "markdown",
      "source": [
        "###15. What is an abstract class in Python?"
      ],
      "metadata": {
        "id": "sNVgEErG-7zT"
      }
    },
    {
      "cell_type": "markdown",
      "source": [
        "Ans- Abstract class (using abc.ABC and @abstractmethod) defines methods that subclasses must implement. It cannot be instantiated.\n",
        "\n"
      ],
      "metadata": {
        "id": "F_7TbG6F-9cz"
      }
    },
    {
      "cell_type": "markdown",
      "source": [
        "###16. What are the advantages of OOP?\n"
      ],
      "metadata": {
        "id": "3CvoU_V2-9ZV"
      }
    },
    {
      "cell_type": "markdown",
      "source": [
        "Ans- Advantages of OOP: Reusability, modularity, scalability, easier debugging, and data security."
      ],
      "metadata": {
        "id": "1wmuMKy7-9Vs"
      }
    },
    {
      "cell_type": "markdown",
      "source": [
        "###17. What is the difference between a class variable and an instance variable?"
      ],
      "metadata": {
        "id": "El32RAM8_4nr"
      }
    },
    {
      "cell_type": "markdown",
      "source": [
        "Ans- Class variables are shared across all instances. Instance variables are unique to each object."
      ],
      "metadata": {
        "id": "x9QDjiV2_oVj"
      }
    },
    {
      "cell_type": "markdown",
      "source": [
        "###18. What is multiple inheritance in Python?"
      ],
      "metadata": {
        "id": "MfUZeI2n_oQD"
      }
    },
    {
      "cell_type": "markdown",
      "source": [
        "Ans- Multiple inheritance allows a class to inherit from multiple parent classes. Python resolves conflicts using MRO (Method Resolution Order)."
      ],
      "metadata": {
        "id": "tmePHbjH_oMM"
      }
    },
    {
      "cell_type": "markdown",
      "source": [
        "###19. Explain the purpose of ‘’__str__’ and ‘__repr__’ ‘ methods in Python?"
      ],
      "metadata": {
        "id": "D6eFiQzuAsHL"
      }
    },
    {
      "cell_type": "markdown",
      "source": [
        "Ans- __ str __ provides a user-friendly string representation. __ repr __ provides an unambiguous string for debugging."
      ],
      "metadata": {
        "id": "QcEozf_0AsAz"
      }
    },
    {
      "cell_type": "markdown",
      "source": [
        "###20.  What is the significance of the ‘super()’ function in Python?"
      ],
      "metadata": {
        "id": "9fd_v4Z_Ar9k"
      }
    },
    {
      "cell_type": "markdown",
      "source": [
        "Ans- super() calls a parent class method, useful in inheritance chains."
      ],
      "metadata": {
        "id": "B8hZ4X4wBLxj"
      }
    },
    {
      "cell_type": "markdown",
      "source": [
        "###21.  What is the significance of the __del__ method in Python?"
      ],
      "metadata": {
        "id": "qsEr10akBLt7"
      }
    },
    {
      "cell_type": "markdown",
      "source": [
        "Ans- __ del __ is a destructor method called when an object is destroyed."
      ],
      "metadata": {
        "id": "4-OR7oYDBLqM"
      }
    },
    {
      "cell_type": "markdown",
      "source": [
        "###22.What is the difference between @staticmethod and @classmethod in Python?"
      ],
      "metadata": {
        "id": "kiSyVH8YC46K"
      }
    },
    {
      "cell_type": "markdown",
      "source": [
        "Ans- **@staticmethod** doesn’t take **cls** or **self**. **@classmethod** takes **cls** as the first parameter."
      ],
      "metadata": {
        "id": "Ue__6lqtDIOy"
      }
    },
    {
      "cell_type": "markdown",
      "source": [
        "###23.  How does polymorphism work in Python with inheritance ?"
      ],
      "metadata": {
        "id": "IYzDEZ2iDIHh"
      }
    },
    {
      "cell_type": "markdown",
      "source": [
        "Ans- Polymorphism with inheritance: Child classes override parent methods to provide specific behavior."
      ],
      "metadata": {
        "id": "-I1krXdjDiJ7"
      }
    },
    {
      "cell_type": "markdown",
      "source": [
        "###24. What is method chaining in Python OOP ?\n"
      ],
      "metadata": {
        "id": "stHnhdr5DiDy"
      }
    },
    {
      "cell_type": "markdown",
      "source": [
        "Ans- Method chaining returns **self** to allow sequential method calls (e.g., **obj.a().b()**)."
      ],
      "metadata": {
        "id": "hfKGY5JNDiAB"
      }
    },
    {
      "cell_type": "markdown",
      "source": [
        "###25. What is the purpose of the __call__ method in Python ?\n"
      ],
      "metadata": {
        "id": "vhFPBDpIDh7S"
      }
    },
    {
      "cell_type": "markdown",
      "source": [
        "Ans- **__ call __** allows an object to be called like a function (e.g., **obj()**)"
      ],
      "metadata": {
        "id": "LhesBv1nES4i"
      }
    },
    {
      "cell_type": "markdown",
      "source": [
        "#Practical Questions"
      ],
      "metadata": {
        "id": "Ch2CUE_fFCEh"
      }
    },
    {
      "cell_type": "markdown",
      "source": [
        "### 1. Create a parent class Animal with a method speak() that prints a generic message. Create a child class Dog that overrides the speak() method to print \"Bark!\"."
      ],
      "metadata": {
        "id": "Czp5hCdaFLwZ"
      }
    },
    {
      "cell_type": "code",
      "source": [
        "class Animal:\n",
        "    def speak(self):\n",
        "        print(\"Generic animal sound\")\n",
        "\n",
        "class Dog(Animal):\n",
        "    def speak(self):\n",
        "        print(\"Bark!\")\n",
        "\n",
        "dog = Dog()\n",
        "dog.speak()"
      ],
      "metadata": {
        "colab": {
          "base_uri": "https://localhost:8080/"
        },
        "id": "OQ7w0T8aFUG4",
        "outputId": "2c5097bf-3a46-4062-c13b-2e1ae66c8b43"
      },
      "execution_count": 1,
      "outputs": [
        {
          "output_type": "stream",
          "name": "stdout",
          "text": [
            "Bark!\n"
          ]
        }
      ]
    },
    {
      "cell_type": "markdown",
      "source": [
        "### 2. Write a program to create an abstract class Shape with a method area(). Derive classes Circle and Rectangle from it and implement the area() method in both."
      ],
      "metadata": {
        "id": "2-pmDjA3FtAZ"
      }
    },
    {
      "cell_type": "code",
      "source": [
        "from abc import ABC, abstractmethod\n",
        "\n",
        "class Shape(ABC):\n",
        "    @abstractmethod\n",
        "    def area(self):\n",
        "        pass\n",
        "\n",
        "class Circle(Shape):\n",
        "    def __init__(self, radius):\n",
        "        self.radius = radius\n",
        "\n",
        "    def area(self):\n",
        "        return 3.14 * self.radius ** 2\n",
        "\n",
        "class Rectangle(Shape):\n",
        "    def __init__(self, length, width):\n",
        "        self.length = length\n",
        "        self.width = width\n",
        "\n",
        "    def area(self):\n",
        "        return self.length * self.width"
      ],
      "metadata": {
        "id": "RhKFtZNTF07x"
      },
      "execution_count": 2,
      "outputs": []
    },
    {
      "cell_type": "markdown",
      "source": [
        "### 3. Implement a multi-level inheritance scenario where a class Vehicle has an attribute type. Derive a class Car and further derive a class ElectricCar that adds a battery attribute"
      ],
      "metadata": {
        "id": "KsaR0kAqGHZh"
      }
    },
    {
      "cell_type": "code",
      "source": [
        "class Vehicle:\n",
        "    def __init__(self, type):\n",
        "        self.type = type\n",
        "\n",
        "class Car(Vehicle):\n",
        "    def __init__(self, type, brand):\n",
        "        super().__init__(type)\n",
        "        self.brand = brand\n",
        "\n",
        "class ElectricCar(Car):\n",
        "    def __init__(self, type, brand, battery):\n",
        "        super().__init__(type, brand)\n",
        "        self.battery = battery"
      ],
      "metadata": {
        "id": "dL-_GfiKGOop"
      },
      "execution_count": 3,
      "outputs": []
    },
    {
      "cell_type": "markdown",
      "source": [
        "### 4. Demonstrate polymorphism by creating a base class Bird with a method fly(). Create two derived classes sparrow and Penguin that override the fly() method."
      ],
      "metadata": {
        "id": "cByNwApdGa1J"
      }
    },
    {
      "cell_type": "code",
      "source": [
        "class Bird:\n",
        "    def fly(self):\n",
        "        print(\"Flying\")\n",
        "\n",
        "class Sparrow(Bird):\n",
        "    def fly(self):\n",
        "        print(\"Sparrow flies\")\n",
        "\n",
        "class Penguin(Bird):\n",
        "    def fly(self):\n",
        "        print(\"Penguin can't fly\")\n",
        "\n",
        "sparrow = Sparrow()\n",
        "penguin = Penguin()\n",
        "sparrow.fly()\n",
        "penguin.fly()"
      ],
      "metadata": {
        "colab": {
          "base_uri": "https://localhost:8080/"
        },
        "id": "fxtEgyq5GiGB",
        "outputId": "38625a2d-4c97-4169-d30b-90ab88193296"
      },
      "execution_count": 4,
      "outputs": [
        {
          "output_type": "stream",
          "name": "stdout",
          "text": [
            "Sparrow flies\n",
            "Penguin can't fly\n"
          ]
        }
      ]
    },
    {
      "cell_type": "markdown",
      "source": [
        "###5. Write a program to demonstrate encapsulation by creating a class BankAccount with private attributes balance and methods to deposit, withdraw, and check balance."
      ],
      "metadata": {
        "id": "rB5oPOsqGrsA"
      }
    },
    {
      "cell_type": "code",
      "source": [
        "class BankAccount:\n",
        "    def __init__(self):\n",
        "        self.__balance = 0\n",
        "\n",
        "    def deposit(self, amount):\n",
        "        self.__balance += amount\n",
        "\n",
        "    def withdraw(self, amount):\n",
        "        if amount <= self.__balance:\n",
        "            self.__balance -= amount\n",
        "        else:\n",
        "            print(\"Insufficient funds\")\n",
        "\n",
        "    def check_balance(self):\n",
        "        return self.__balance\n",
        "\n",
        "account = BankAccount()\n",
        "account.deposit(100)\n",
        "account.withdraw(50)\n",
        "print(account.check_balance())"
      ],
      "metadata": {
        "colab": {
          "base_uri": "https://localhost:8080/"
        },
        "id": "UG7HsWYpG0kx",
        "outputId": "da1a2386-b83c-4c41-9523-245879014eac"
      },
      "execution_count": 5,
      "outputs": [
        {
          "output_type": "stream",
          "name": "stdout",
          "text": [
            "50\n"
          ]
        }
      ]
    },
    {
      "cell_type": "markdown",
      "source": [
        "### 6. Demonstrate runtime polymorphism using a method play() in a base class Instrument. Derive classes Guitar and Piano that implement their own version of play()."
      ],
      "metadata": {
        "id": "Vyhg9LbmG9g4"
      }
    },
    {
      "cell_type": "code",
      "source": [
        "class Instrument:\n",
        "    def play(self):\n",
        "        print(\"Instrument plays\")\n",
        "\n",
        "class Guitar(Instrument):\n",
        "    def play(self):\n",
        "        print(\"Guitar strums\")\n",
        "\n",
        "class Piano(Instrument):\n",
        "    def play(self):\n",
        "        print(\"Piano keys pressed\")\n",
        "\n",
        "def play_instrument(instrument):\n",
        "    instrument.play()\n",
        "\n",
        "guitar = Guitar()\n",
        "piano = Piano()\n",
        "play_instrument(guitar)\n",
        "play_instrument(piano)"
      ],
      "metadata": {
        "colab": {
          "base_uri": "https://localhost:8080/"
        },
        "id": "YpCljhNSHFEY",
        "outputId": "198a672d-99f3-4371-b901-dc99ca2cf410"
      },
      "execution_count": 6,
      "outputs": [
        {
          "output_type": "stream",
          "name": "stdout",
          "text": [
            "Guitar strums\n",
            "Piano keys pressed\n"
          ]
        }
      ]
    },
    {
      "cell_type": "markdown",
      "source": [
        "### 7. Create a class MathOperations with a class method add_numbers() to add two numbers and a static method subtract_numbers() to subtract two numbers."
      ],
      "metadata": {
        "id": "7o0Nlfz5HNKh"
      }
    },
    {
      "cell_type": "code",
      "source": [
        "class MathOperations:\n",
        "    @classmethod\n",
        "    def add_numbers(cls, a, b):\n",
        "        return a + b\n",
        "\n",
        "    @staticmethod\n",
        "    def subtract_numbers(a, b):\n",
        "        return a - b\n",
        "\n",
        "print(MathOperations.add_numbers(5, 3))\n",
        "print(MathOperations.subtract_numbers(5, 3))"
      ],
      "metadata": {
        "colab": {
          "base_uri": "https://localhost:8080/"
        },
        "id": "0r9TJyAqHSQ4",
        "outputId": "3e34cd88-5e3a-48b0-8158-a5ea2f42ad7a"
      },
      "execution_count": 7,
      "outputs": [
        {
          "output_type": "stream",
          "name": "stdout",
          "text": [
            "8\n",
            "2\n"
          ]
        }
      ]
    },
    {
      "cell_type": "markdown",
      "source": [
        "### 8. Implement a class Person with a class method to count the total number of persons created."
      ],
      "metadata": {
        "id": "5JqYjtm0HZbY"
      }
    },
    {
      "cell_type": "code",
      "source": [
        "class Person:\n",
        "    count = 0\n",
        "\n",
        "    def __init__(self):\n",
        "        Person.count += 1\n",
        "\n",
        "    @classmethod\n",
        "    def get_count(cls):\n",
        "        return cls.count\n",
        "\n",
        "p1 = Person()\n",
        "p2 = Person()\n",
        "print(Person.get_count())"
      ],
      "metadata": {
        "colab": {
          "base_uri": "https://localhost:8080/"
        },
        "id": "smrLD_JRHeEg",
        "outputId": "da3ebcb3-5ac7-4a2a-8d30-a8c46044bc2c"
      },
      "execution_count": 8,
      "outputs": [
        {
          "output_type": "stream",
          "name": "stdout",
          "text": [
            "2\n"
          ]
        }
      ]
    },
    {
      "cell_type": "markdown",
      "source": [
        "### 9. Write a class Fraction with attributes numerator and denominator. Override the str method to display the fraction as \"numerator/denominator\"."
      ],
      "metadata": {
        "id": "nOA98LDuHiqI"
      }
    },
    {
      "cell_type": "code",
      "source": [
        "class Fraction:\n",
        "    def __init__(self, numerator, denominator):\n",
        "        self.numerator = numerator\n",
        "        self.denominator = denominator\n",
        "\n",
        "    def __str__(self):\n",
        "        return f\"{self.numerator}/{self.denominator}\"\n",
        "\n",
        "frac = Fraction(3, 4)\n",
        "print(frac)"
      ],
      "metadata": {
        "colab": {
          "base_uri": "https://localhost:8080/"
        },
        "id": "h_QqEaYSHqYQ",
        "outputId": "17594e3e-a5ee-47e6-b8c3-c82aaaa9e574"
      },
      "execution_count": 9,
      "outputs": [
        {
          "output_type": "stream",
          "name": "stdout",
          "text": [
            "3/4\n"
          ]
        }
      ]
    },
    {
      "cell_type": "markdown",
      "source": [
        "### 10. Demonstrate operator overloading by creating a class Vector and overriding the add method to add two vectors."
      ],
      "metadata": {
        "id": "NK2XmeuvHtba"
      }
    },
    {
      "cell_type": "code",
      "source": [
        "class Vector:\n",
        "    def __init__(self, x, y):\n",
        "        self.x = x\n",
        "        self.y = y\n",
        "\n",
        "    def __add__(self, other):\n",
        "        return Vector(self.x + other.x, self.y + other.y)\n",
        "\n",
        "    def __str__(self):\n",
        "        return f\"({self.x}, {self.y})\"\n",
        "\n",
        "v1 = Vector(2, 3)\n",
        "v2 = Vector(1, 4)\n",
        "result = v1 + v2\n",
        "print(result)"
      ],
      "metadata": {
        "colab": {
          "base_uri": "https://localhost:8080/"
        },
        "id": "EpG3O2qLH1Tf",
        "outputId": "2bb43969-b25c-41f3-ad1a-a7889a10afc0"
      },
      "execution_count": 10,
      "outputs": [
        {
          "output_type": "stream",
          "name": "stdout",
          "text": [
            "(3, 7)\n"
          ]
        }
      ]
    },
    {
      "cell_type": "markdown",
      "source": [
        "### 11. Create a class Person with attributes name and age. Add a method greet() that prints \"Hello, my name is{name} and I am {age} years old.\""
      ],
      "metadata": {
        "id": "GELsFGXmH66Q"
      }
    },
    {
      "cell_type": "code",
      "source": [
        "class Person:\n",
        "    def __init__(self, name, age):\n",
        "        self.name = name\n",
        "        self.age = age\n",
        "\n",
        "    def greet(self):\n",
        "        print(f\"Hello, my name is {self.name} and I am {self.age} years old.\")\n",
        "\n",
        "person = Person(\"Alice\", 30)\n",
        "person.greet()"
      ],
      "metadata": {
        "colab": {
          "base_uri": "https://localhost:8080/"
        },
        "id": "QUsVX_HKIH0p",
        "outputId": "6cf5e7cd-f5e4-40a6-cfc3-a1171ca978fe"
      },
      "execution_count": 11,
      "outputs": [
        {
          "output_type": "stream",
          "name": "stdout",
          "text": [
            "Hello, my name is Alice and I am 30 years old.\n"
          ]
        }
      ]
    },
    {
      "cell_type": "markdown",
      "source": [
        "### 12. Implement a class Student with attributes name and grades. Create a method average_grade() to compute the average of the grades."
      ],
      "metadata": {
        "id": "He8hWPr5IM_Y"
      }
    },
    {
      "cell_type": "code",
      "source": [
        "class Student:\n",
        "    def __init__(self, name):\n",
        "        self.name = name\n",
        "        self.grades = []\n",
        "\n",
        "    def add_grade(self, grade):\n",
        "        self.grades.append(grade)\n",
        "\n",
        "    def average_grade(self):\n",
        "        return sum(self.grades) / len(self.grades)\n",
        "\n",
        "student = Student(\"Bob\")\n",
        "student.add_grade(90)\n",
        "student.add_grade(80)\n",
        "print(student.average_grade())"
      ],
      "metadata": {
        "colab": {
          "base_uri": "https://localhost:8080/"
        },
        "id": "yFZa2d-RIU84",
        "outputId": "9df8611b-40a0-47c6-aab7-000ae6dc6695"
      },
      "execution_count": 12,
      "outputs": [
        {
          "output_type": "stream",
          "name": "stdout",
          "text": [
            "85.0\n"
          ]
        }
      ]
    },
    {
      "cell_type": "markdown",
      "source": [
        "### 13. Create a class Rectangle with methods set_dimensions() to set the dimensions and area() to calculate the area."
      ],
      "metadata": {
        "id": "AX9W-XJtIbQQ"
      }
    },
    {
      "cell_type": "code",
      "source": [
        "class Rectangle:\n",
        "    def set_dimensions(self, width, height):\n",
        "        self.width = width\n",
        "        self.height = height\n",
        "\n",
        "    def area(self):\n",
        "        return self.width * self.height\n",
        "\n",
        "rect = Rectangle()\n",
        "rect.set_dimensions(5, 3)\n",
        "print(rect.area())"
      ],
      "metadata": {
        "colab": {
          "base_uri": "https://localhost:8080/"
        },
        "id": "XBzbvbE1Ij4v",
        "outputId": "0a009528-c05d-475f-c948-26f49e17ad9c"
      },
      "execution_count": 13,
      "outputs": [
        {
          "output_type": "stream",
          "name": "stdout",
          "text": [
            "15\n"
          ]
        }
      ]
    },
    {
      "cell_type": "markdown",
      "source": [
        "### 14. Create a class Employee with a method calculate_salary() that computes the salary based on hours worked and hourly rate. Create a derived class Manager that adds a bonus to the salary."
      ],
      "metadata": {
        "id": "1CMF4ny0IoHp"
      }
    },
    {
      "cell_type": "code",
      "source": [
        "class Employee:\n",
        "    def __init__(self, hourly_rate):\n",
        "        self.hourly_rate = hourly_rate\n",
        "\n",
        "    def calculate_salary(self, hours_worked):\n",
        "        return self.hourly_rate * hours_worked\n",
        "\n",
        "class Manager(Employee):\n",
        "    def calculate_salary(self, hours_worked):\n",
        "        base = super().calculate_salary(hours_worked)\n",
        "        return base + 1000  # Bonus\n",
        "\n",
        "manager = Manager(20)\n",
        "print(manager.calculate_salary(40))"
      ],
      "metadata": {
        "colab": {
          "base_uri": "https://localhost:8080/"
        },
        "id": "AfyT7UvLIvfP",
        "outputId": "2444db3c-bd0e-4900-fe66-b7b7d319d531"
      },
      "execution_count": 14,
      "outputs": [
        {
          "output_type": "stream",
          "name": "stdout",
          "text": [
            "1800\n"
          ]
        }
      ]
    },
    {
      "cell_type": "markdown",
      "source": [
        "###15. Create a class Product with attributes name, price, and quantity. Implement a method total_price() that calculates the total price of the product."
      ],
      "metadata": {
        "id": "d4B6nmDbI1PI"
      }
    },
    {
      "cell_type": "code",
      "source": [
        "class Product:\n",
        "    def __init__(self, name, price, quantity):\n",
        "        self.name = name\n",
        "        self.price = price\n",
        "        self.quantity = quantity\n",
        "\n",
        "    def total_price(self):\n",
        "        return self.price * self.quantity\n",
        "\n",
        "product = Product(\"Book\", 10, 5)\n",
        "print(product.total_price())"
      ],
      "metadata": {
        "colab": {
          "base_uri": "https://localhost:8080/"
        },
        "id": "1zDoabx2I90n",
        "outputId": "30147bb2-8aaf-4fc5-a376-cdde68e38a7d"
      },
      "execution_count": 15,
      "outputs": [
        {
          "output_type": "stream",
          "name": "stdout",
          "text": [
            "50\n"
          ]
        }
      ]
    },
    {
      "cell_type": "markdown",
      "source": [
        "### 16. Create a class Animal with an abstract method sound(). Create two derived classes Cow and Sheep that implement the sound() method"
      ],
      "metadata": {
        "id": "Jz1-kd6IJELA"
      }
    },
    {
      "cell_type": "code",
      "source": [
        "from abc import ABC, abstractmethod\n",
        "\n",
        "class Animal(ABC):\n",
        "    @abstractmethod\n",
        "    def sound(self):\n",
        "        pass\n",
        "\n",
        "class Cow(Animal):\n",
        "    def sound(self):\n",
        "        print(\"Moo\")\n",
        "\n",
        "class Sheep(Animal):\n",
        "    def sound(self):\n",
        "        print(\"Baa\")\n",
        "\n",
        "cow = Cow()\n",
        "sheep = Sheep()\n",
        "cow.sound()\n",
        "sheep.sound()"
      ],
      "metadata": {
        "colab": {
          "base_uri": "https://localhost:8080/"
        },
        "id": "7gLAxVDtJKIn",
        "outputId": "53495c56-c4b1-4c6c-81d6-e230b51e358b"
      },
      "execution_count": 16,
      "outputs": [
        {
          "output_type": "stream",
          "name": "stdout",
          "text": [
            "Moo\n",
            "Baa\n"
          ]
        }
      ]
    },
    {
      "cell_type": "markdown",
      "source": [
        "### 17. Create a class Book with attributes title, author, and year_published. Add a method get_book_info() that returns a formatted string with the book's details."
      ],
      "metadata": {
        "id": "YvkZrT33JSRv"
      }
    },
    {
      "cell_type": "code",
      "source": [
        "class Book:\n",
        "    def __init__(self, title, author, year_published):\n",
        "        self.title = title\n",
        "        self.author = author\n",
        "        self.year_published = year_published\n",
        "\n",
        "    def get_book_info(self):\n",
        "        return f\"Title: {self.title}, Author: {self.author}, Year: {self.year_published}\"\n",
        "\n",
        "book = Book(\"1984\", \"George Orwell\", 1949)\n",
        "print(book.get_book_info())"
      ],
      "metadata": {
        "colab": {
          "base_uri": "https://localhost:8080/"
        },
        "id": "ebSU9IZbJamP",
        "outputId": "8d56d8b6-93a4-4922-bf5c-9f6e12dc5d09"
      },
      "execution_count": 17,
      "outputs": [
        {
          "output_type": "stream",
          "name": "stdout",
          "text": [
            "Title: 1984, Author: George Orwell, Year: 1949\n"
          ]
        }
      ]
    },
    {
      "cell_type": "markdown",
      "source": [
        "### 18. Create a class House with attributes address and price. Create a derived class Mansion that adds an attribute number_of_rooms."
      ],
      "metadata": {
        "id": "Jgp3jssnJgJv"
      }
    },
    {
      "cell_type": "code",
      "source": [
        "class House:\n",
        "    def __init__(self, address, price):\n",
        "        self.address = address\n",
        "        self.price = price\n",
        "\n",
        "class Mansion(House):\n",
        "    def __init__(self, address, price, number_of_rooms):\n",
        "        super().__init__(address, price)\n",
        "        self.number_of_rooms = number_of_rooms\n",
        "\n",
        "mansion = Mansion(\"123 Main St\", 1000000, 10)\n",
        "print(mansion.number_of_rooms)"
      ],
      "metadata": {
        "colab": {
          "base_uri": "https://localhost:8080/"
        },
        "id": "xBq67U-PJnLA",
        "outputId": "026696d8-308c-4636-b07b-56f5aaecfe75"
      },
      "execution_count": 19,
      "outputs": [
        {
          "output_type": "stream",
          "name": "stdout",
          "text": [
            "10\n"
          ]
        }
      ]
    },
    {
      "cell_type": "markdown",
      "source": [
        "##THANK YOU :)"
      ],
      "metadata": {
        "id": "Fn0ETd1LJwMf"
      }
    }
  ]
}